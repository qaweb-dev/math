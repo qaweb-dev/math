{
  "nbformat": 4,
  "nbformat_minor": 0,
  "metadata": {
    "colab": {
      "provenance": [],
      "authorship_tag": "ABX9TyN+5OFTG4TjaiDNIxisajsa",
      "include_colab_link": true
    },
    "kernelspec": {
      "name": "python3",
      "display_name": "Python 3"
    },
    "language_info": {
      "name": "python"
    }
  },
  "cells": [
    {
      "cell_type": "markdown",
      "metadata": {
        "id": "view-in-github",
        "colab_type": "text"
      },
      "source": [
        "<a href=\"https://colab.research.google.com/github/qaweb-dev/math/blob/main/latex_example_colab.ipynb\" target=\"_parent\"><img src=\"https://colab.research.google.com/assets/colab-badge.svg\" alt=\"Open In Colab\"/></a>"
      ]
    },
    {
      "cell_type": "markdown",
      "source": [
        "# Приклад блокнота з формулами LaTeX (MathJax)"
      ],
      "metadata": {
        "id": "fhSjpwPgYNCh"
      }
    },
    {
      "cell_type": "markdown",
      "source": [
        "MathJax і LaTeX відкри­ва­ють пе­ред ро­з­роб­ни­ка­ми та на­у­ков­ця­ми ве­ликі мож­ли­вості. Ви­ко­ри­стан­ня цих інстру­ментів доз­во­ляє ство­рю­ва­ти якісні ма­те­ма­тичні ви­ра­зи, які гар­монійно інте­гру­ють­ся у веб-до­ку­мен­ти. Їхня по­пулярність свідчить про ефек­тивність, про­сто­ту і стабільність у ро­боті. Для тих, хто пра­цює з ма­те­ма­ти­кою, LaTeX і MathJax ста­ють незамінни­ми інстру­мен­та­ми. Більше про розмітку LaTeX читайте на сайті [qaweb.dev](https://qaweb.dev/math-ua/983-latex-mathjax-equatuon-ua)."
      ],
      "metadata": {
        "id": "xJSyFy8fYYHg"
      }
    },
    {
      "cell_type": "markdown",
      "source": [
        "<h2>Приклади формул у MathJax</h2>\n",
        "\n",
        "<h3>Рівняння Максвелла</h3>\n",
        "<p><strong>Код MathJax:</strong></p>\n",
        "<pre><code>\\[\n",
        "\\begin{aligned}\n",
        "&\\nabla \\cdot \\mathbf{E} = \\frac{\\rho}{\\epsilon_0}, \\\\\n",
        "&\\nabla \\cdot \\mathbf{B} = 0, \\\\\n",
        "&\\nabla \\times \\mathbf{E} = -\\frac{\\partial \\mathbf{B}}{\\partial t}, \\\\\n",
        "&\\nabla \\times \\mathbf{B} = \\mu_0 \\mathbf{J} + \\mu_0 \\epsilon_0 \\frac{\\partial \\mathbf{E}}{\\partial t}.\n",
        "\\end{aligned}\n",
        "\\]\n",
        "</code></pre>\n",
        "<p><strong>Результат:</strong></p>\n",
        "<p>\\begin{aligned}\n",
        "&\\nabla \\cdot \\mathbf{E} = \\frac{\\rho}{\\epsilon_0}, \\\\\n",
        "&\\nabla \\cdot \\mathbf{B} = 0, \\\\\n",
        "&\\nabla \\times \\mathbf{E} = -\\frac{\\partial \\mathbf{B}}{\\partial t}, \\\\\n",
        "&\\nabla \\times \\mathbf{B} = \\mu_0 \\mathbf{J} + \\mu_0 \\epsilon_0 \\frac{\\partial \\mathbf{E}}{\\partial t}.\n",
        "\\end{aligned}\n",
        "</p>\n",
        "\n",
        "<h3>Теорема Піфагора</h3>\n",
        "<p><strong>Код MathJax:</strong></p>\n",
        "<pre><code>\\[\n",
        "a^2 + b^2 = c^2\n",
        "\\]\n",
        "</code></pre>\n",
        "<p><strong>Результат:</strong></p>\n",
        "<p>\\[\n",
        "a^2 + b^2 = c^2\n",
        "\\]</p>\n",
        "\n",
        "<h3>Гамма-функція</h3>\n",
        "<p><strong>Код MathJax:</strong></p>\n",
        "<pre><code>\\Gamma(z) = \\int_{0}^{\\infty} t^{z-1} e^{-t} \\, dt\n",
        "</code></pre>\n",
        "<p><strong>Результат:</strong></p>\n",
        "<p>\\[\n",
        "\\Gamma(z) = \\int_{0}^{\\infty} t^{z-1} e^{-t} \\, dt\\]\n",
        "</p>\n",
        "\n",
        "<h3>Формула Лаґранжа для залишкового члена ряду Тейлора</h3>\n",
        "<p><strong>Код MathJax:</strong></p>\n",
        "<pre><code>\\[\n",
        "R_n(x) = \\frac{f^{(n+1)}(\\xi)}{(n+1)!} (x - c)^{n+1}, \\quad c < \\xi < x\n",
        "\\]</code></pre>\n",
        "<p><strong>Результат:</strong></p>\n",
        "<p>\\[\n",
        "R_n(x) = \\frac{f^{(n+1)}(\\xi)}{(n+1)!} (x - c)^{n+1}, \\quad c < \\xi < x\n",
        "\\]</p>\n",
        "\n",
        "<h3>Імовірність у розподілі Гаусса</h3>\n",
        "<p><strong>Код MathJax:</strong></p>\n",
        "<pre><code>\\[\n",
        "P(x) = \\frac{1}{\\sqrt{2 \\pi \\sigma^2}} e^{-\\frac{(x - \\mu)^2}{2 \\sigma^2}}\n",
        "\\]</code></pre>\n",
        "<p><strong>Результат:</strong></p>\n",
        "<p>\\[\n",
        "P(x) = \\frac{1}{\\sqrt{2 \\pi \\sigma^2}} e^{-\\frac{(x - \\mu)^2}{2 \\sigma^2}}\n",
        "\\]</p>\n",
        "\n",
        "<h3>Рівняння еліпсу</h3>\n",
        "<p><strong>Код MathJax:</strong></p>\n",
        "<pre><code>\\[\n",
        "\\frac{x^2}{a^2} + \\frac{y^2}{b^2} = 1\n",
        "\\]</code></pre>\n",
        "<p><strong>Результат:</strong></p>\n",
        "<p>\\[\n",
        "\\frac{x^2}{a^2} + \\frac{y^2}{b^2} = 1\n",
        "\\]</p>\n",
        "\n",
        "<h3>Формула для об'єму кулі</h3>\n",
        "<p><strong>Код MathJax:</strong></p>\n",
        "<pre><code>\\[\n",
        "V = \\frac{4}{3} \\pi r^3\n",
        "\\]</code></pre>\n",
        "<p><strong>Результат:</strong></p>\n",
        "<p>\\[\n",
        "V = \\frac{4}{3} \\pi r^3\n",
        "\\]</p>"
      ],
      "metadata": {
        "id": "QDGGo7taeC5X"
      }
    },
    {
      "cell_type": "markdown",
      "source": [
        "<h2>Візуальний редактор формул MathJax</h2>\n",
        "\n",
        "Для новачка код формул може здаватися складним. Але завжди можна скористатися досить простим візуальним редактором для набору формул. Спробуйте - <a href=\"mathred/math-ua.html\" target=\"_blank\"   title=\"редактор формул MathJax\">Редактор формул MathJax</a>."
      ],
      "metadata": {
        "id": "6A1BdYwAkdlZ"
      }
    }
  ]
}
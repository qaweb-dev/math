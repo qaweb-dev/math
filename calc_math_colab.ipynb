{
  "nbformat": 4,
  "nbformat_minor": 0,
  "metadata": {
    "colab": {
      "provenance": [],
      "authorship_tag": "ABX9TyMLis360jWk+RgWm8S4WZQb",
      "include_colab_link": true
    },
    "kernelspec": {
      "name": "python3",
      "display_name": "Python 3"
    },
    "language_info": {
      "name": "python"
    }
  },
  "cells": [
    {
      "cell_type": "markdown",
      "metadata": {
        "id": "view-in-github",
        "colab_type": "text"
      },
      "source": [
        "<a href=\"https://colab.research.google.com/github/qaweb-dev/math/blob/main/calc_math_colab.ipynb\" target=\"_parent\"><img src=\"https://colab.research.google.com/assets/colab-badge.svg\" alt=\"Open In Colab\"/></a>"
      ]
    },
    {
      "cell_type": "markdown",
      "source": [
        "# Калькулятор Google Colab"
      ],
      "metadata": {
        "id": "rry9RGl4LD_4"
      }
    },
    {
      "cell_type": "markdown",
      "source": [
        "Це приклад використання Google Colab у якості онлайн-калькулятора для типових математичних обчислень.\n",
        "\n",
        "Більше читайте [тут про онлайн калькулятор](https://qaweb.dev/math-ua/1016-calc-google-colab)."
      ],
      "metadata": {
        "id": "KCjvreXTUN_i"
      }
    },
    {
      "cell_type": "markdown",
      "source": [
        "**Задача 1.** Обчисліть значення виразу:\n",
        "\\begin{aligned}5 + 3 \\cdot \\left( \\frac{12}{4} \\right)\\end{aligned}"
      ],
      "metadata": {
        "id": "_rb7nOqbLPk8"
      }
    },
    {
      "cell_type": "code",
      "execution_count": 2,
      "metadata": {
        "colab": {
          "base_uri": "https://localhost:8080/"
        },
        "id": "0YJ6Ob7vLDC3",
        "outputId": "1ea97a1f-3e85-470e-a0b0-eeb28691a585"
      },
      "outputs": [
        {
          "output_type": "stream",
          "name": "stdout",
          "text": [
            "14.0\n"
          ]
        }
      ],
      "source": [
        "result = 5 + 3 * (12 / 4)\n",
        "print(result)"
      ]
    },
    {
      "cell_type": "markdown",
      "source": [
        "**Задача 2.** Об­числіть зна­чен­ня си­ну­са та ко­си­ну­са для ку­та 30°."
      ],
      "metadata": {
        "id": "vmKSntiVPEWS"
      }
    },
    {
      "cell_type": "code",
      "source": [
        "import math\n",
        "\n",
        "angle_rad = math.radians(30)\n",
        "sin_value = math.sin(angle_rad)\n",
        "cos_value = math.cos(angle_rad)\n",
        "\n",
        "print(\"Sinus 30°:\", sin_value)\n",
        "print(\"Cosinus 30°:\", cos_value)"
      ],
      "metadata": {
        "colab": {
          "base_uri": "https://localhost:8080/"
        },
        "id": "3c5lKe09LkR-",
        "outputId": "c9416c2a-7591-499b-f3c8-8b3d489598d0"
      },
      "execution_count": 3,
      "outputs": [
        {
          "output_type": "stream",
          "name": "stdout",
          "text": [
            "Sinus 30°: 0.49999999999999994\n",
            "Cosinus 30°: 0.8660254037844387\n"
          ]
        }
      ]
    },
    {
      "cell_type": "markdown",
      "source": [
        "**Задача 3.** Знайдіть квад­ратні ко­рені для ма­си­ву чи­сел: [1, 4, 9, 16, 25]"
      ],
      "metadata": {
        "id": "KTJosc4YPXwV"
      }
    },
    {
      "cell_type": "code",
      "source": [
        "import numpy as np\n",
        "\n",
        "numbers = np.array([1, 4, 9, 16, 25])\n",
        "sqrt_values = np.sqrt(numbers)\n",
        "\n",
        "print(sqrt_values)"
      ],
      "metadata": {
        "colab": {
          "base_uri": "https://localhost:8080/"
        },
        "id": "iQTIi60NPl-1",
        "outputId": "acb11d19-a6e9-4061-9e3d-4abfe1cbc5f6"
      },
      "execution_count": 4,
      "outputs": [
        {
          "output_type": "stream",
          "name": "stdout",
          "text": [
            "[1. 2. 3. 4. 5.]\n"
          ]
        }
      ]
    },
    {
      "cell_type": "markdown",
      "source": [
        "Задача 4. Розв'яжіть си­сте­му рівнянь:\n",
        "<p>\\begin{aligned}\n",
        "    2x + y & = 5 \\\\\n",
        "    x - y & = 1\n",
        "    \\end{aligned}</p>"
      ],
      "metadata": {
        "id": "4seimm19Pzyl"
      }
    },
    {
      "cell_type": "code",
      "source": [
        "import numpy as np\n",
        "\n",
        "A = np.array([[2, 1], [1, -1]])\n",
        "B = np.array([5, 1])\n",
        "\n",
        "solution = np.linalg.solve(A, B)\n",
        "print(solution)"
      ],
      "metadata": {
        "colab": {
          "base_uri": "https://localhost:8080/"
        },
        "id": "SINAOc1lQD2-",
        "outputId": "c841d711-63a9-4738-e14c-ab0ca5f3b89a"
      },
      "execution_count": 5,
      "outputs": [
        {
          "output_type": "stream",
          "name": "stdout",
          "text": [
            "[2. 1.]\n"
          ]
        }
      ]
    },
    {
      "cell_type": "markdown",
      "source": [
        "<p><b>Задача 5:</b> Знайдіть похідну функції:</p>\n",
        "<p>\\begin{aligned}f(x) = x^3 + 2x^2 + x\\end{aligned}</p>"
      ],
      "metadata": {
        "id": "m86S0OLRQonR"
      }
    },
    {
      "cell_type": "code",
      "source": [
        "from sympy import symbols, diff\n",
        "\n",
        "x = symbols('x')\n",
        "function = x**3 + 2*x**2 + x\n",
        "derivative = diff(function, x)\n",
        "print(derivative)"
      ],
      "metadata": {
        "colab": {
          "base_uri": "https://localhost:8080/"
        },
        "id": "KdEE_UnlR4V_",
        "outputId": "e6847ea7-c704-4e4d-862e-8945af7e9904"
      },
      "execution_count": 6,
      "outputs": [
        {
          "output_type": "stream",
          "name": "stdout",
          "text": [
            "3*x**2 + 4*x + 1\n"
          ]
        }
      ]
    },
    {
      "cell_type": "markdown",
      "source": [
        " <p><b>Задача 6:</b> Обчисліть інтеграл функції:</p>\n",
        "<p>\\begin{aligned}f(x) = x^3 + 2x^2 + x\\end{aligned}</p>"
      ],
      "metadata": {
        "id": "xDltAoW3SDfM"
      }
    },
    {
      "cell_type": "code",
      "source": [
        "from sympy import integrate\n",
        "function = x**3 + 2*x**2 + x\n",
        "integral = integrate(function, x)\n",
        "print(integral)"
      ],
      "metadata": {
        "colab": {
          "base_uri": "https://localhost:8080/"
        },
        "id": "jSCqcl0QSfWc",
        "outputId": "96db2a23-97ad-4917-c533-0ccf3f2f58e0"
      },
      "execution_count": 10,
      "outputs": [
        {
          "output_type": "stream",
          "name": "stdout",
          "text": [
            "x**4/4 + 2*x**3/3 + x**2/2\n"
          ]
        }
      ]
    }
  ]
}